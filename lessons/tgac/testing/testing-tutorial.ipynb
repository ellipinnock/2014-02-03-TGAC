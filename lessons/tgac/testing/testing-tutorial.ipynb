{
 "metadata": {
  "name": "testing"
 },
 "nbformat": 3,
 "nbformat_minor": 0,
 "worksheets": [
  {
   "cells": [
    {
     "cell_type": "heading",
     "level": 1,
     "metadata": {},
     "source": [
      "Debugging and testing"
     ]
    },
    {
     "cell_type": "markdown",
     "metadata": {},
     "source": [
      "**Based on materials by Mike Jackson, Katy Huff, Rachel Slaybaugh, Patrick Fuller and Anthony Scopatz. With special thanks to Gordon Webster, the [Digital Biologist](http://www.digitalbiologist.com), for kindly allowing use of his [Python DNA function](http://www.digitalbiologist.com/2011/04/code-tutorial-getting-started-with-python.html).**\n",
      "## Some questions for you\n",
      "\n",
      "Let's open with some questions. How many of you test your code or scripts...\n",
      "\n",
      "* With a set of input data and check that this gives an expected set of output data?\n",
      "* With multiple sets of input data?\n",
      "* With input data you know to be incorrect and check that your code or scripts behave appropriately e.g. giving a warning, or exiting, or anything that doesn't involve producing output data that *seems* OK but is not?\n",
      "* After every change you've made to fix a bug or optimise your code or to add a new feature?\n",
      "* Using some form of automation e.g. a set of testing scripts or a test framework?\n",
      "\n",
      "\n",
      "##Debugging\n",
      "Unless you're perfect, you are bound to make errors. Especially early \n",
      "on, expect to spend much more time debugging than actually coding. The process \n",
      "fits the Pareto principle - you're going to spend \\~20% of your time writing \n",
      "~80% of your code, and the other ~80% of your time will be spent screaming \n",
      "obscenities at your computer (I think that's what the Pareto principle says, \n",
      "anyway). Remember to keep calm, and **LEARN** from your mistakes.\n",
      "\n",
      "\n",
      "## Exceptions, errors, and tracebacks\n",
      "\n",
      "When your code errors, Python will stop and return an _exception_ that attempts \n",
      "to tell you what's up. There are \\~165 exceptions in the Python standard \n",
      "library, and you'll be seeing many of them very soon. Exceptions to befriend \n",
      "include:\n"
     ]
    },
    {
     "cell_type": "markdown",
     "metadata": {},
     "source": [
      "        SyntaxError # You're probably missing a parenthesis or colon\n",
      "        NameError   # There's probably a variable name typo somewhere\n",
      "        TypeError   # You're doing something with incompatible variable types\n",
      "        ValueError  # You're calling a function with the wrong parameter\n",
      "        IOError     # You're trying to use a file that doesn't exist\n",
      "        IndexError  # You're trying to reference a list element that doesn't exist\n",
      "        KeyError    # Similar to an IndexError, but for dictionaries\n",
      "        Exception   # This means \"an error of any type\" - hopefully you don't see it often"
     ]
    },
    {
     "cell_type": "markdown",
     "metadata": {},
     "source": [
      "When code returns an exception, we say that the exception was _thrown_ or\n",
      "_raised_. These exceptions may be _handled_ or _caught_ by the code.\n",
      "\n",
      "When an exception is printed, it often comes with something called a\n",
      "_traceback_. This is Python's attempt to tell you where the code errored. It\n",
      "will look like gibberish for a while, but that impression will go away with time.\n",
      "\n",
      "\n",
      "## Debuggers: for the deep-rooted errors\n",
      "For  complex issues code bugs, you want to follow the code's logic line by line. One lazy way to do this is to put `print` statements everywhere, which allows you\n",
      "to view variables over time. However, this gets messy quickly, and you lose\n",
      "control of what variables you can see once you start executing.\n",
      "\n",
      "This is where the Python DeBugger, or _pdb_, comes into play. With it, you can \n",
      "step through your code and watch as variables are changed.\n",
      "\n",
      "All you have to do to use this is import the `pdb` module and call the \n",
      "`set_trace()` method.\n"
     ]
    },
    {
     "cell_type": "markdown",
     "metadata": {},
     "source": [
      "    import pdb\n",
      "        # [ ... ]\n",
      "        # Your code here\n",
      "        # [ ... ]\n",
      "    pdb.set_trace()"
     ]
    },
    {
     "cell_type": "markdown",
     "metadata": {},
     "source": [
      "Now, when you run the code, it will stop at whatever line you put `set_trace()`.\n",
      "You'll be prompted to give a command. Some common commands include:\n",
      "\n",
      " * `continue` continues on to the next time a `set_trace()` line is hit\n",
      " * `print \\*variable\\*` prints the current value of a specified variable\n",
      " * `list` shows the source code around the `set_trace()` line\n",
      " * `args` prints the values of all the arguments in the current function\n",
      "\n",
      "There are a lot more options, which can be found [here](http://docs.python.org/2/library/pdb.html), but these few should be enough to get you running with pdb.\n",
      "\n",
      "\n",
      "\n",
      "## What is testing?\n",
      "\n",
      "Software testing is exercising and confirming expected behaviours and results from code. It allows us to check that,\n",
      "\n",
      "* Our code behaves as expected and produces valid output data given valid input data.\n",
      "* Our code does this using *any* set of valid input data.\n",
      "* Our code fails gracefully if given invalid input data - it does not just crash or behave mysteriously or unpredictably but, for example, exits politely with a message as to why the input data is invalid.\n",
      "* Our code can handle extreme boundaries of input domains, output ranges, parametric combinations or any other edge cases.\n",
      "* Our code's existing behaviour is still the same after we've changed it (this is called *regression testing*).\n",
      "\n",
      "It also gives us the confidence to:\n",
      "\n",
      "* Add new features.\n",
      "* Optimise our code.\n",
      "* Parallelise our code.\n",
      "* Fix bugs.\n",
      "\n",
      "...all without introducing bugs. Nothing is worse than fixing a bug only to introduce a new one.\n",
      "\n",
      "Tests also help us remember what all the parts of our code does. If we are working on a large project over three years and end up with 100s of functions, it may be hard to remember what each function does in detail. If we have a test that checks all of the function's functionality, we can look at the test to remember what it's supposed to do.\n",
      "\n",
      "## Why isn't testing done?\n",
      "\n",
      "Do any of these sound familiar?\n",
      "\n",
      "* \"I don't write buggy code\", well, we are naturally very protective of our work and may refuse to accept that our code has bugs. Unfortunately, almost all code has bugs.\n",
      "* \"It's too hard\", but, if it's hard to write a test for some code, then this is a good sign that the code is not well designed.\n",
      "* \"It's not interesting\", sometimes, testing is just viewed as not being interesting which means...\n",
      "* \"It takes too much time and I've research to do\"\n",
      "\n",
      "And, this is a fair point. So, why should we care about testing?\n",
      "\n",
      "## Why we should do testing?\n",
      "\n",
      "Testing allows us, and others, to trust our code and trust it enough to answer in the affirmative to at least a few of the following questions:\n",
      "\n",
      "* Does your code work?\n",
      "* Always?\n",
      "* Does it do what we think it does?\n",
      "* Does it continue to work after changes are made, for example optimisations or bug fixes?\n",
      "* Does it continue to work after system configurations or libraries are upgraded?\n",
      "* Does it respond properly for a full range of input parameters?\n",
      "* Does it handle about edge or corner cases?\n",
      "\n",
      "As a cautionary tale, consider Ariane 5 which used Ariane 4 software. Ariane 5 had new and improved engines which caused the code to produce a buffer overflow...and Ariane 5 blew up! So, some forgotten tests led to millions of pounds down the drain and some very red faces.\n",
      "\n",
      "Or, consider [Geoffrey Chang](http://en.wikipedia.org/wiki/Geoffrey_Chang) who had to [retract](http://www.sciencemag.org/content/314/5807/1875.2.long) 3 papers from [Science](http://www.sciencemag.org), due to a flipped sign! Or, McKitrick and Michaels' [Climate Research 26(2) 2004](http://www.int-res.com/abstracts/cr/v26/n2/p159-173/) paper, which drew the attention of a blogger Tim Lambert who noted a [problem](http://crookedtimber.org/2004/08/25/mckitrick-mucks-it-up/) which led to their subsequent [erratum](http://www.int-res.com/articles/cr2004/27/c027p265.pdf).\n",
      "\n",
      "Do this too regularly and people may not trust our research, which could affect our chances for collaborations, publications or funding.\n",
      "\n",
      "But if this is not compelling, then, if nothing else, writing tests is an investment in time that saves us time in future,\n",
      "\n",
      "* We can automate the checking of outputs from our software to ensure they're valid.\n",
      "* We can detect more quickly whether refactoring, optimisation or parallelisation has introduced bugs.\n",
      "* We can run our tests while doing other, more interesting, things.\n",
      "\n",
      "## Fixing things before we test...\n",
      "\n",
      "Before we test our code, it can be very productive to get a colleague to look at it for us...why?\n",
      "\n",
      " **What we know about software development - code reviews work** \n",
      "\n",
      "Fagan (1976) discovered that a rigorous inspection can remove 60-90% of errors before the first test is run. \n",
      " M.E., Fagan (1976). [Design and Code inspections to reduce errors in program development](http://www.mfagan.com/pdfs/ibmfagan.pdf). IBM Systems Journal 15 (3): pp. 182-211.\n",
      "\n",
      " **What we know about software development - code reviews should be about 60 minutes long** \n",
      "\n",
      "Cohen (2006) discovered that all the value of a code review comes within the first hour, after which reviewers can become exhausted and the issues they find become ever more trivial.\n",
      " J. Cohen (2006). [Best Kept Secrets of Peer Code Review](http://smartbear.com/SmartBear/media/pdfs/best-kept-secrets-of-peer-code-review.pdf). SmartBear, 2006. ISBN-10: 1599160676. ISBN-13: 978-1599160672.\n",
      "           \n",
      "## Testing with Python\n",
      "\n",
      "In the file [dna.py](python/dna/dna.py) we have a Python dictionary that stores the molecular weights of the 4 standard DNA nucleotides, A, T, C and G, \n"
     ]
    },
    {
     "cell_type": "code",
     "collapsed": false,
     "input": [
      " NUCLEOTIDES = {'A':131.2, 'T':304.2, 'C':289.2, 'G':329.2}"
     ],
     "language": "python",
     "metadata": {},
     "outputs": [],
     "prompt_number": 3
    },
    {
     "cell_type": "code",
     "collapsed": false,
     "input": [
      "NUCLEOTIDES"
     ],
     "language": "python",
     "metadata": {},
     "outputs": [
      {
       "output_type": "pyout",
       "prompt_number": 4,
       "text": [
        "{'A': 131.2, 'C': 289.2, 'G': 329.2, 'T': 304.2}"
       ]
      }
     ],
     "prompt_number": 4
    },
    {
     "cell_type": "markdown",
     "metadata": {},
     "source": [
      "and a Python function that takes a DNA sequence as input and returns its molecular weight, which is the sum of the weights for each nucelotide in the sequence,"
     ]
    },
    {
     "cell_type": "code",
     "collapsed": false,
     "input": [
      " def calculate_weight(sequence):\n",
      "        \"\"\"\n",
      "        Calculate the molecular weight of a DNA sequence.\n",
      "        @param sequence: DNA sequence expressed as an upper-case string. \n",
      "        @return molecular weight.\n",
      "        \"\"\"\n",
      "        weight = 0.0\n",
      "        for ch in sequence:\n",
      "            weight += NUCLEOTIDES[ch]\n",
      "        return weight"
     ],
     "language": "python",
     "metadata": {},
     "outputs": [],
     "prompt_number": 5
    },
    {
     "cell_type": "markdown",
     "metadata": {},
     "source": [
      "We can calculate the molecular weight of a sequence by:"
     ]
    },
    {
     "cell_type": "code",
     "collapsed": false,
     "input": [
      "weight = calculate_weight('GATGCTGTGGATAA')\n",
      "print weight"
     ],
     "language": "python",
     "metadata": {},
     "outputs": [
      {
       "output_type": "stream",
       "stream": "stdout",
       "text": [
        "3676.8\n"
       ]
      }
     ],
     "prompt_number": 6
    },
    {
     "cell_type": "markdown",
     "metadata": {},
     "source": [
      "We can add a test to our code as follows:"
     ]
    },
    {
     "cell_type": "code",
     "collapsed": false,
     "input": [
      "def calculate_weight(sequence):\n",
      "        \"\"\"\n",
      "        Calculate the molecular weight of a DNA sequence.\n",
      "\n",
      "        @param sequence: DNA sequence expressed as an upper-case string.\n",
      "        @return molecular weight.\n",
      "        \"\"\"\n",
      "        weight = 0.0\n",
      "        try:\n",
      "            for ch in sequence:\n",
      "                weight += NUCLEOTIDES[ch]\n",
      "            return weight\n",
      "        except TypeError:\n",
      "            print 'The input is not a sequence e.g. a string or list'        "
     ],
     "language": "python",
     "metadata": {},
     "outputs": [],
     "prompt_number": 7
    },
    {
     "cell_type": "markdown",
     "metadata": {},
     "source": [
      "If the input is not a string, or a list of characters then the `for...in` statement will *raise an exception* which is *caught* by the `except` block. For example"
     ]
    },
    {
     "cell_type": "code",
     "collapsed": false,
     "input": [
      "print calculate_weight(123)"
     ],
     "language": "python",
     "metadata": {},
     "outputs": [
      {
       "output_type": "stream",
       "stream": "stdout",
       "text": [
        "The input is not a sequence e.g. a string or list\n",
        "None\n"
       ]
      }
     ],
     "prompt_number": 8
    },
    {
     "cell_type": "markdown",
     "metadata": {},
     "source": [
      "This is a *runtime test*. It alerts the user to exceptional behavior in the code. Often, exceptions are related to functions that depend on input that is unknown at compile time. Such tests make our code robust and allows our code to behave gracefully - they anticipate problematic values and handle them.\n"
     ]
    },
    {
     "cell_type": "markdown",
     "metadata": {},
     "source": [
      "Often, we want to pass such errors to other points in our program rather than just print a message and continue. So, for example we could do"
     ]
    },
    {
     "cell_type": "markdown",
     "metadata": {},
     "source": [
      "    except TypeError:\n",
      "        raise ValueError('The input is not a sequence e.g. a string or list')"
     ]
    },
    {
     "cell_type": "markdown",
     "metadata": {},
     "source": [
      "which raises a new exception, with a more meaningful message. If writing a complex application, our user interface could then present this to the user e.g. as a dialog box.\n",
      "\n",
      "Runtime tests don't test our functions behaviour or whether it's implemented correctly. So, we can add some tests,"
     ]
    },
    {
     "cell_type": "code",
     "collapsed": false,
     "input": [
      "print \"A is \", calculate_weight('A')\n",
      "print \"G is \", calculate_weight('G')\n",
      "print \"GA is \", calculate_weight('GA')"
     ],
     "language": "python",
     "metadata": {},
     "outputs": [
      {
       "output_type": "stream",
       "stream": "stdout",
       "text": [
        "A is  131.2\n",
        "G is  329.2\n",
        "GA is  460.4\n"
       ]
      }
     ],
     "prompt_number": 9
    },
    {
     "cell_type": "markdown",
     "metadata": {},
     "source": [
      "But we'd have to visually inspect the results to see they are as expected. So, let's have the computer do that for us and make our lives easier, and save us time in checking,"
     ]
    },
    {
     "cell_type": "code",
     "collapsed": false,
     "input": [
      "assert calculate_weight('A') == 131.2\n",
      "assert calculate_weight('G') == 329.2\n",
      "assert calculate_weight('GA') == 460.4"
     ],
     "language": "python",
     "metadata": {},
     "outputs": [],
     "prompt_number": 10
    },
    {
     "cell_type": "markdown",
     "metadata": {},
     "source": [
      "`assert` checks whether a condition is true and, if not, raises an exception.\n",
      "\n",
      "We explicitly list the expected weights in each statement. But, by doing this there is a risk that we mistype one. A good design principle is to define constant values in one place only. As we already have defined them in `nucleotides` we can just refer to that,"
     ]
    },
    {
     "cell_type": "code",
     "collapsed": false,
     "input": [
      "assert calculate_weight('A') == NUCLEOTIDES['A']\n",
      "assert calculate_weight('G') == NUCLEOTIDES['G']\n",
      "assert calculate_weight('GA') == NUCLEOTIDES['G'] + NUCLEOTIDES['A']"
     ],
     "language": "python",
     "metadata": {},
     "outputs": [],
     "prompt_number": 11
    },
    {
     "cell_type": "markdown",
     "metadata": {},
     "source": [
      "But this isn't very modular, and modularity is a good design principle, so let's define some test functions"
     ]
    },
    {
     "cell_type": "code",
     "collapsed": false,
     "input": [
      "def test_a():\n",
      "    assert calculate_weight('A') == NUCLEOTIDES['A']\n",
      "def test_g():\n",
      "    assert calculate_weight('G') == NUCLEOTIDES['G']\n",
      "def test_ga():\n",
      "    assert calculate_weight('GA') == NUCLEOTIDES['G'] + NUCLEOTIDES['A']\n",
      "\n",
      "test_a()\n",
      "test_g()\n",
      "test_ga()"
     ],
     "language": "python",
     "metadata": {},
     "outputs": [],
     "prompt_number": 12
    },
    {
     "cell_type": "markdown",
     "metadata": {},
     "source": [
      "And, rather than have our tests and code in the same file, let's separate them out. So, let's create\n",
      "\n",
      "    $ nano test_dna.py\n",
      "\n",
      "Now, our function and nucleotides data are in `dna.py` and we want to refer to them in `test_dna.py` file, we need to *import* them. We can do this as,\n",
      "\n",
      "    from dna import calculate_weight\n",
      "    from dna import NUCLEOTIDES\n",
      "\n",
      "Then we can add all our test functions and function calls to this file. And run the tests,\n",
      "\n",
      "    $ python test_dna.py"
     ]
    },
    {
     "cell_type": "markdown",
     "metadata": {},
     "source": [
      "## `nose` - a Python test framework\n",
      "\n",
      "`nose` is a test framework for Python that will automatically find, run and report on tests written in Python. It is an example of what has been termed an *[xUnit test framework](http://en.wikipedia.org/wiki/XUnit)*, perhaps the most famous being JUnit for Java.\n",
      "\n",
      "To use `nose`, we write test functions, as we've been doing, with the prefix `test_` and put these in files, likewise prefixed by `test_`. The prefixes `Test-`, `Test_` and `test-` can also be used.\n",
      "\n",
      "Typically, a test function,\n",
      "\n",
      "* Sets up some inputs and the associated expected outputs. The expected outputs might be a single number, a range of numbers, some text, a file, a set of files, or whatever.\n",
      "* Runs the function or component being tested on the inputs to get some actual outputs.\n",
      "* Checks that the actual outputs match the expected outputs. We use assertions as part of this checking. We can check both that conditions hold and that conditions do not hold.\n",
      "\n",
      "So, we could rewrite `test_a`, as the more, verbose, but equivalent,"
     ]
    },
    {
     "cell_type": "code",
     "collapsed": false,
     "input": [
      " def test_a():\n",
      "     expected = NUCLEOTIDES['A']\n",
      "     actual = calculate_weight('A')                     \n",
      "     assert expected == actual"
     ],
     "language": "python",
     "metadata": {},
     "outputs": [],
     "prompt_number": 13
    },
    {
     "cell_type": "markdown",
     "metadata": {},
     "source": [
      "Python `assert` allows us to check,"
     ]
    },
    {
     "cell_type": "markdown",
     "metadata": {},
     "source": [
      "    assert should_be_true()\n",
      "    assert not should_not_be_true()"
     ]
    },
    {
     "cell_type": "markdown",
     "metadata": {},
     "source": [
      "`nose` defines additional functions which can be used to check for a rich range of conditions e.g.."
     ]
    },
    {
     "cell_type": "markdown",
     "metadata": {},
     "source": [
      "    from nose.tools import *\n",
      "\n",
      "    assert_equal(a, b)\n",
      "    assert_almost_equal(a, b, 3)\n",
      "    assert_true(a)\n",
      "    assert_false(a)\n",
      "    assert_raises(exception, func, *args, **kwargs)\n"
     ]
    },
    {
     "cell_type": "markdown",
     "metadata": {},
     "source": [
      "`assert_raises` is used for where we want to test that an exception is raised if, for example, we give a function a bad input.\n",
      "\n",
      "To run `nose` for our tests, we can do,"
     ]
    },
    {
     "cell_type": "markdown",
     "metadata": {},
     "source": [
      "`assert_raises` is used for where we want to test that an exception is raised if, for example, we give a function a bad input.\n",
      "\n",
      "To run `nose` for our tests, we can do,\n",
      "\n",
      "    $ nosetests test_dna.py\n",
      "\n",
      "Each `.` corresponds to a successful test. And to prove `nose` is finding our tests, let's remove the function calls from `test_dna.py` and try again,\n",
      "\n",
      "    $ nosetests test_dna.py\n",
      "\n",
      "nosetests can output an \"xUnit\" test report,\n",
      "\n",
      "    $ nosetests --with-xunit test_dna.py\n",
      "    $ cat nosetests.xml\n",
      "\n",
      "This is a standard format that that is supported by a number of xUnit frameworks which can then be converted to HTML and presented online. \n",
      "\n",
      "## Write some more tests\n",
      "\n",
      "Let's spend a few minutes coming up with some more tests for `calculate_weight`. Consider,\n",
      "\n",
      "* What haven't we tested for so far? \n",
      "* Have we covered all the nucleotides? \n",
      "* Have we covered all the types of string we can expect? \n",
      "* In addition to test functions, other types of runtime test could we add to `calculate_weight`?\n",
      "\n",
      "Examples of tests we could add include,\n",
      "\n",
      "* `calculate_weight('T')`\n",
      "* `calculate_weight('C')`\n",
      "* `calculate_weight('TC')`\n",
      "* `calculate_weight(123)` \n",
      "\n",
      "The latter requires us to check whether an exception was raised which we can do as follows:\n"
     ]
    },
    {
     "cell_type": "code",
     "collapsed": false,
     "input": [
      "try:\n",
      "    calculate_weight(123) \n",
      "    assert False\n",
      "except ValueError:\n",
      "    assert True"
     ],
     "language": "python",
     "metadata": {},
     "outputs": [
      {
       "ename": "AssertionError",
       "evalue": "",
       "output_type": "pyerr",
       "traceback": [
        "\u001b[0;31m---------------------------------------------------------------------------\u001b[0m\n\u001b[0;31mAssertionError\u001b[0m                            Traceback (most recent call last)",
        "\u001b[0;32m<ipython-input-22-54123ab566b2>\u001b[0m in \u001b[0;36m<module>\u001b[0;34m()\u001b[0m\n\u001b[1;32m      1\u001b[0m \u001b[0;32mtry\u001b[0m\u001b[0;34m:\u001b[0m\u001b[0;34m\u001b[0m\u001b[0m\n\u001b[1;32m      2\u001b[0m     \u001b[0mcalculate_weight\u001b[0m\u001b[0;34m(\u001b[0m\u001b[0;36m123\u001b[0m\u001b[0;34m)\u001b[0m\u001b[0;34m\u001b[0m\u001b[0m\n\u001b[0;32m----> 3\u001b[0;31m     \u001b[0;32massert\u001b[0m \u001b[0mFalse\u001b[0m\u001b[0;34m\u001b[0m\u001b[0m\n\u001b[0m\u001b[1;32m      4\u001b[0m \u001b[0;32mexcept\u001b[0m \u001b[0mValueError\u001b[0m\u001b[0;34m:\u001b[0m\u001b[0;34m\u001b[0m\u001b[0m\n\u001b[1;32m      5\u001b[0m     \u001b[0;32massert\u001b[0m \u001b[0mTrue\u001b[0m\u001b[0;34m\u001b[0m\u001b[0m\n",
        "\u001b[0;31mAssertionError\u001b[0m: "
       ]
      },
      {
       "output_type": "stream",
       "stream": "stdout",
       "text": [
        "The input is not a sequence e.g. a string or list\n"
       ]
      }
     ],
     "prompt_number": 22
    },
    {
     "cell_type": "markdown",
     "metadata": {},
     "source": [
      "This is like catching a runtime error. If an exception is raised then our test passes (`assert True`), else if no exception is raised, it fails. Alternatively, we can use `assert_raises` from `nose`,"
     ]
    },
    {
     "cell_type": "code",
     "collapsed": false,
     "input": [
      "from nose.tools import assert_raises\n",
      "\n",
      "def test_123():\n",
      "    assert_raises(ValueError, calculate_weight, 123)"
     ],
     "language": "python",
     "metadata": {},
     "outputs": [],
     "prompt_number": 23
    },
    {
     "cell_type": "markdown",
     "metadata": {},
     "source": [
      "The assert fails if the named exception is *not* raised.\n",
      "\n",
      "One other test we could do is `calculate_weight('GATCX')` for which we can add another runtime test,\n",
      "        \n",
      "        ...\n",
      "        except KeyError:\n",
      "            raise ValueError('The input is not a sequence of G,T,C,A')"
     ]
    },
    {
     "cell_type": "markdown",
     "metadata": {},
     "source": [
      "## Testing in practice\n",
      "\n",
      "The example we've looked at is based on one function. Suppose we have a complex legacy code of 10000s of lines and which takes many input files and produces many output files. Exactly the same approach can be used as above - we run our code on a set of input files and check whether the output files match what you'd expect. For example, we could,\n",
      "\n",
      "* Run the code on a set of inputs.\n",
      "* Save the outputs.\n",
      "* Refactor the code e.g. to optimise it or parallelise it.\n",
      "* Run the code on the inputs.\n",
      "* Check that the outputs match the saved outputs. \n",
      "\n",
      "This was the approach taken by EPCC and the Colon Cancer Genetics Group (CCGG) of the MRC Human Genetics Unit at the Western General as part of an [Oncology](http://www.edikt.org/edikt2/OncologyActivity) project to optimise and parallelise a FORTRAN genetics code.\n",
      "\n",
      "The [Muon Ion Cooling Experiment](http://www.mice.iit.edu/) (MICE) have a large number of tests written in Python. They use [Jenkins](), a *continuous integration server* to build their code and trigger the running of the tests which are then [published online](https://micewww.pp.rl.ac.uk/tab/show/maus).\n",
      "\n",
      "## When 1 + 1 = 2.0000001\n",
      "\n",
      "Computers don't do floating point arithmetic too well. This can make simple tests for the equality of two floating point values problematic due to imprecision in the values being compared. "
     ]
    },
    {
     "cell_type": "code",
     "collapsed": false,
     "input": [
      "expected = 1 + 1 \n",
      "actual = 2.0000001\n",
      "assert expected == actual"
     ],
     "language": "python",
     "metadata": {},
     "outputs": [
      {
       "ename": "AssertionError",
       "evalue": "",
       "output_type": "pyerr",
       "traceback": [
        "\u001b[0;31m---------------------------------------------------------------------------\u001b[0m\n\u001b[0;31mAssertionError\u001b[0m                            Traceback (most recent call last)",
        "\u001b[0;32m<ipython-input-27-d38ca29d7111>\u001b[0m in \u001b[0;36m<module>\u001b[0;34m()\u001b[0m\n\u001b[1;32m      1\u001b[0m \u001b[0mexpected\u001b[0m \u001b[0;34m=\u001b[0m \u001b[0;36m1\u001b[0m \u001b[0;34m+\u001b[0m \u001b[0;36m1\u001b[0m\u001b[0;34m\u001b[0m\u001b[0m\n\u001b[1;32m      2\u001b[0m \u001b[0mactual\u001b[0m \u001b[0;34m=\u001b[0m \u001b[0;36m2.0000001\u001b[0m\u001b[0;34m\u001b[0m\u001b[0m\n\u001b[0;32m----> 3\u001b[0;31m \u001b[0;32massert\u001b[0m \u001b[0mexpected\u001b[0m \u001b[0;34m==\u001b[0m \u001b[0mactual\u001b[0m\u001b[0;34m\u001b[0m\u001b[0m\n\u001b[0m",
        "\u001b[0;31mAssertionError\u001b[0m: "
       ]
      }
     ],
     "prompt_number": 27
    },
    {
     "cell_type": "markdown",
     "metadata": {},
     "source": [
      "We can get round this by comparing to within a given threshold, or delta, for example we may consider *expected* and *actual* to be equal if *expected - actual < 0.000000000001*.\n",
      "\n",
      "Test frameworks such as `nose`, often provide functions to handle this for us. For example, to test that 2 numbers are equal when rounded to a given number of decimal places,\n"
     ]
    },
    {
     "cell_type": "code",
     "collapsed": false,
     "input": [
      "from nose.tools import assert_almost_equal\n",
      "assert_almost_equal(expected, actual, 0)\n",
      "assert_almost_equal(expected, actual, 1)\n",
      "assert_almost_equal(expected, actual, 3)\n",
      "assert_almost_equal(expected, actual, 6)\n",
      "assert_almost_equal(expected, actual, 7)"
     ],
     "language": "python",
     "metadata": {},
     "outputs": [
      {
       "ename": "AssertionError",
       "evalue": "2 != 2.0000001 within 7 places",
       "output_type": "pyerr",
       "traceback": [
        "\u001b[0;31m---------------------------------------------------------------------------\u001b[0m\n\u001b[0;31mAssertionError\u001b[0m                            Traceback (most recent call last)",
        "\u001b[0;32m<ipython-input-28-e20852a75bfc>\u001b[0m in \u001b[0;36m<module>\u001b[0;34m()\u001b[0m\n\u001b[1;32m      4\u001b[0m \u001b[0massert_almost_equal\u001b[0m\u001b[0;34m(\u001b[0m\u001b[0mexpected\u001b[0m\u001b[0;34m,\u001b[0m \u001b[0mactual\u001b[0m\u001b[0;34m,\u001b[0m \u001b[0;36m3\u001b[0m\u001b[0;34m)\u001b[0m\u001b[0;34m\u001b[0m\u001b[0m\n\u001b[1;32m      5\u001b[0m \u001b[0massert_almost_equal\u001b[0m\u001b[0;34m(\u001b[0m\u001b[0mexpected\u001b[0m\u001b[0;34m,\u001b[0m \u001b[0mactual\u001b[0m\u001b[0;34m,\u001b[0m \u001b[0;36m6\u001b[0m\u001b[0;34m)\u001b[0m\u001b[0;34m\u001b[0m\u001b[0m\n\u001b[0;32m----> 6\u001b[0;31m \u001b[0massert_almost_equal\u001b[0m\u001b[0;34m(\u001b[0m\u001b[0mexpected\u001b[0m\u001b[0;34m,\u001b[0m \u001b[0mactual\u001b[0m\u001b[0;34m,\u001b[0m \u001b[0;36m7\u001b[0m\u001b[0;34m)\u001b[0m\u001b[0;34m\u001b[0m\u001b[0m\n\u001b[0m",
        "\u001b[0;32m/System/Library/Frameworks/Python.framework/Versions/2.7/lib/python2.7/unittest/case.py\u001b[0m in \u001b[0;36massertAlmostEqual\u001b[0;34m(self, first, second, places, msg, delta)\u001b[0m\n\u001b[1;32m    555\u001b[0m                                                           places)\n\u001b[1;32m    556\u001b[0m         \u001b[0mmsg\u001b[0m \u001b[0;34m=\u001b[0m \u001b[0mself\u001b[0m\u001b[0;34m.\u001b[0m\u001b[0m_formatMessage\u001b[0m\u001b[0;34m(\u001b[0m\u001b[0mmsg\u001b[0m\u001b[0;34m,\u001b[0m \u001b[0mstandardMsg\u001b[0m\u001b[0;34m)\u001b[0m\u001b[0;34m\u001b[0m\u001b[0m\n\u001b[0;32m--> 557\u001b[0;31m         \u001b[0;32mraise\u001b[0m \u001b[0mself\u001b[0m\u001b[0;34m.\u001b[0m\u001b[0mfailureException\u001b[0m\u001b[0;34m(\u001b[0m\u001b[0mmsg\u001b[0m\u001b[0;34m)\u001b[0m\u001b[0;34m\u001b[0m\u001b[0m\n\u001b[0m\u001b[1;32m    558\u001b[0m \u001b[0;34m\u001b[0m\u001b[0m\n\u001b[1;32m    559\u001b[0m     \u001b[0;32mdef\u001b[0m \u001b[0massertNotAlmostEqual\u001b[0m\u001b[0;34m(\u001b[0m\u001b[0mself\u001b[0m\u001b[0;34m,\u001b[0m \u001b[0mfirst\u001b[0m\u001b[0;34m,\u001b[0m \u001b[0msecond\u001b[0m\u001b[0;34m,\u001b[0m \u001b[0mplaces\u001b[0m\u001b[0;34m=\u001b[0m\u001b[0mNone\u001b[0m\u001b[0;34m,\u001b[0m \u001b[0mmsg\u001b[0m\u001b[0;34m=\u001b[0m\u001b[0mNone\u001b[0m\u001b[0;34m,\u001b[0m \u001b[0mdelta\u001b[0m\u001b[0;34m=\u001b[0m\u001b[0mNone\u001b[0m\u001b[0;34m)\u001b[0m\u001b[0;34m:\u001b[0m\u001b[0;34m\u001b[0m\u001b[0m\n",
        "\u001b[0;31mAssertionError\u001b[0m: 2 != 2.0000001 within 7 places"
       ]
      }
     ],
     "prompt_number": 28
    },
    {
     "cell_type": "markdown",
     "metadata": {},
     "source": [
      "What do we consider to be a suitable threshold for equality? That is application-specific - for some domains we might be happy to round to the nearest whole number, for others we may want to be far, far more accurate.\n",
      "\n",
      "## When should we test?\n",
      "\n",
      "We should test,\n",
      "\n",
      "* Always!\n",
      "* Early, and not wait till after we've used it to generate data for our important paper, or given it to someone else to use.\n",
      "* Often, so that we know that any changes we've made to our code, or to things that our code needs (e.g. libraries, configuration files etc.) haven't introduced any bugs.\n",
      "\n",
      "But, when should we finish writing tests? How much is enough? \n",
      "\n",
      "> **What we know about software development - we can't test everything**\n",
      "\n",
      "> \"It is nearly impossible to test software at the level of 100 percent of its logic paths\", fact 32 in R. L. Glass (2002) [Facts and Fallacies of Software Engineering](http://www.amazon.com/Facts-Fallacies-Software-Engineering-Robert/dp/0321117425) ([PDF](http://citeseerx.ist.psu.edu/viewdoc/download?doi=10.1.1.94.2037&rep=rep1&type=pdf)).\n",
      "\n",
      "We can't test everything but that's no excuse for testing nothing! How much to test is something to be learned by experience, so think of it as analogous to when you finish proof reading a paper, over and over, before sending it to a conference. If you find bugs when you use your code, you did too little, so consider what you might have done and how to address this next time.\n",
      "\n",
      "Tests, like code, should ideally be reviewed by a colleague which helps avoid tests that,\n",
      "\n",
      "* Pass when they should fail, false positives.\n",
      "* Fail when they should pass, false negatives.\n",
      "* Don't test anything. \n",
      "\n",
      "For example,\n",
      "\n",
      "    def test_critical_correctness():\n",
      "        # TODO - will complete this tomorrow!\n",
      "        pass\n",
      "\n",
      "Yes, tests like this *do* occur on projects!\n"
     ]
    },
    {
     "cell_type": "markdown",
     "metadata": {},
     "source": [
      "## Test-driven development\n",
      "\n",
      "Traditionally, we'd write our code, then write the tests. [Test driven development](http://www.amazon.com/Test-Driven-Development-By-Example/dp/0321146530) (TDD), proposed by Kent Beck, is a philosophy that turns this on its head - we write code by *writing the tests first*, then write the code to make the tests pass. If a new feature is needed, another test is written and the code is expanded to meet this new use case. This continues until the code does what is needed. This can be summarised as red-green-refactor:\n",
      "\n",
      " * Red - write tests based on requirements. They fail as there is no code!\n",
      " * Green - write/modify code to get tests to pass.\n",
      " * Refactor code - clean it up.\n",
      "\n",
      "By writing tests first, we're forced to think about what our code should do. In contrast, in writing our code then tests, we risk testing what the code actually does, rather than what it should do.\n",
      "\n",
      "TDD operates on the YAGNI principle (You Ain't Gonna Need It) to avoid developing code for which there is no need.\n",
      "\n",
      "## TDD of a DNA complement function\n",
      "\n",
      "Given a DNA sequence consisting of A, C, T and G, we can create its complementary DNA, cDNA, by applying a mapping to each nucleotide in turn,\n",
      "\n",
      "* A => T\n",
      "* C => G\n",
      "* T => A\n",
      "* G => C\n",
      "\n",
      "For example, given DNA strand GTCA, the cDNA is CAGT. \n",
      "\n",
      "So, let's write a `complement` function that creates the cDNA strand, given a DNA strand in a string. We'll use TDD, so to start, let's create a file `test_cdna.py` and add a test,\n"
     ]
    },
    {
     "cell_type": "markdown",
     "metadata": {},
     "source": [
      "from cdna import complement\n",
      "\n",
      "def test_complement_a():\n",
      "    assert_equals complement('A') == 'T'"
     ]
    },
    {
     "cell_type": "markdown",
     "metadata": {},
     "source": [
      "\n",
      "\n",
      "And let's run the test,\n",
      "\n",
      "    $ nosetests test_cdna.py\n",
      "\n",
      "Which fails as we have no function! So, let's create a file `cdna.py`. Our initial function to get the tests to pass could be,\n",
      "\n",
      "    def complement(sequence):\n",
      "        return 'T'\n",
      "\n",
      "This is simplistic, but the test passes. Now let's add another test,\n",
      "\n",
      "    def test_complement_c():\n",
      "        assert complement('C') == 'G'\n",
      "\n",
      "To get both our tests to pass, we can change our function to be,\n",
      "\n",
      "    def complement(sequence):\n",
      "        if (sequence == 'A'):\n",
      "            return 'T'\n",
      "        else:\n",
      "            return 'G'\n",
      "\n",
      "Now, add some more tests. Don't worry about `complement` just now.\n",
      "\n",
      "Let's discuss the tests you've come up with.\n",
      "\n",
      "Now update `complement` to make your tests pass. You may want to reuse some of the logic of `calculate_weight`!\n",
      "\n",
      "When we're done, not only do we have a working function, we also have a set of tests. There's no risk of us leaving the tests \"till later\" and then never having time to write them.\n",
      "\n",
      "\n",
      "## Further information\n",
      "\n",
      "* [Software Carpentry](http://software-carpentry.org/)'s online [testing](http://software-carpentry.org/4_0/test/index.html) lectures.\n",
      "* A discussion on [is it worthwhile to write unit tests for scientific research codes?](http://scicomp.stackexchange.com/questions/206/is-it-worthwhile-to-write-unit-tests-for-scientific-research-codes)\n",
      "* G. Wilson, D. A. Aruliah, C. T. Brown, N. P. Chue Hong, M. Davis, R. T. Guy, S. H. D. Haddock, K. Huff, I. M. Mitchell, M. Plumbley, B. Waugh, E. P. White, P. Wilson (2012) \"[Best Practices for Scientific Computing](http://arxiv.org/abs/1210.0530)\", arXiv:1210.0530 [cs.MS].\n",
      "\n"
     ]
    },
    {
     "cell_type": "code",
     "collapsed": false,
     "input": [],
     "language": "python",
     "metadata": {},
     "outputs": []
    }
   ],
   "metadata": {}
  }
 ]
}